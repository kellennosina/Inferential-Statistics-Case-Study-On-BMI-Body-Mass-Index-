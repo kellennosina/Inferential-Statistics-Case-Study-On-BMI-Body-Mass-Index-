{
  "nbformat": 4,
  "nbformat_minor": 0,
  "metadata": {
    "colab": {
      "provenance": []
    },
    "kernelspec": {
      "name": "python3",
      "display_name": "Python 3"
    },
    "language_info": {
      "name": "python"
    }
  },
  "cells": [
    {
      "cell_type": "code",
      "execution_count": null,
      "metadata": {
        "colab": {
          "base_uri": "https://localhost:8080/"
        },
        "id": "YJYxjFAhsvoo",
        "outputId": "1389be4a-1aab-448f-d677-2be2d13b7f5c"
      },
      "outputs": [
        {
          "output_type": "stream",
          "name": "stdout",
          "text": [
            "✅ Healthcare dataset with 150000 rows saved as Healthcare_Dataset.xlsx\n"
          ]
        }
      ],
      "source": [
        "import pandas as pd\n",
        "import numpy as np\n",
        "\n",
        "# Set random seed for reproducibility\n",
        "np.random.seed(42)\n",
        "\n",
        "# Number of rows\n",
        "n = 150_000\n",
        "\n",
        "# Generate synthetic healthcare dataset\n",
        "data = pd.DataFrame({\n",
        "    \"PatientID\": range(1, n+1),\n",
        "    \"Age\": np.random.randint(18, 90, size=n),\n",
        "    \"Gender\": np.random.choice([\"Male\", \"Female\"], size=n, p=[0.48, 0.52]),\n",
        "    \"BMI\": np.round(np.random.normal(27, 5, size=n), 1),  # normal distribution around 27\n",
        "    \"BloodPressure_Systolic\": np.random.randint(90, 181, size=n),\n",
        "    \"BloodPressure_Diastolic\": np.random.randint(60, 121, size=n),\n",
        "    \"CholesterolLevel\": np.random.randint(120, 301, size=n),\n",
        "    \"BloodSugarFasting\": np.random.randint(70, 201, size=n),\n",
        "    \"SmokingStatus\": np.random.choice([\"Never\", \"Former\", \"Current\"], size=n, p=[0.6, 0.25, 0.15]),\n",
        "    \"ExerciseFreq\": np.random.randint(0, 8, size=n),  # 0-7 days per week\n",
        "    \"SleepHours\": np.random.randint(4, 11, size=n),   # 4-10 hours per day\n",
        "    \"AlcoholConsumption\": np.random.randint(0, 21, size=n),  # units per week\n",
        "    \"MentalHealthScore\": np.random.randint(0, 31, size=n),   # 0-30 scale\n",
        "    \"PhysicalHealthScore\": np.random.randint(0, 31, size=n), # 0-30 scale\n",
        "    \"HeartDisease\": np.random.choice([\"Yes\", \"No\"], size=n, p=[0.1, 0.9]),\n",
        "    \"KidneyDisease\": np.random.choice([\"Yes\", \"No\"], size=n, p=[0.05, 0.95]),\n",
        "    \"CancerHistory\": np.random.choice([\"Yes\", \"No\"], size=n, p=[0.07, 0.93]),\n",
        "    \"MedicationAdherence\": np.random.choice([\"Low\", \"Medium\", \"High\"], size=n, p=[0.2, 0.5, 0.3]),\n",
        "    \"HospitalVisitsLastYear\": np.random.poisson(2, size=n),  # avg 2 visits\n",
        "})\n",
        "\n",
        "# Derive outcome column based on risk factors\n",
        "conditions = [\n",
        "    (data[\"HeartDisease\"] == \"Yes\") | (data[\"KidneyDisease\"] == \"Yes\") | (data[\"CancerHistory\"] == \"Yes\"),\n",
        "    (data[\"BMI\"] > 30) | (data[\"BloodPressure_Systolic\"] > 140) | (data[\"CholesterolLevel\"] > 240)\n",
        "]\n",
        "choices = [\"Chronic Illness\", \"At Risk\"]\n",
        "data[\"Outcome\"] = np.select(conditions, choices, default=\"Healthy\")\n",
        "\n",
        "# Save to Excel\n",
        "output_path = \"Healthcare_Dataset.xlsx\"\n",
        "data.to_excel(output_path, index=False)\n",
        "\n",
        "print(f\"✅ Healthcare dataset with {n} rows saved as {output_path}\")\n"
      ]
    },
    {
      "cell_type": "code",
      "source": [
        "from google.colab import files\n",
        "files.download(\"Healthcare_Dataset.xlsx\")\n"
      ],
      "metadata": {
        "id": "AjrM58TntY6l",
        "outputId": "3a6902c1-b110-45e0-d5fd-90ac2a9b8736",
        "colab": {
          "base_uri": "https://localhost:8080/",
          "height": 34
        }
      },
      "execution_count": null,
      "outputs": [
        {
          "output_type": "display_data",
          "data": {
            "text/plain": [
              "<IPython.core.display.Javascript object>"
            ],
            "application/javascript": [
              "\n",
              "    async function download(id, filename, size) {\n",
              "      if (!google.colab.kernel.accessAllowed) {\n",
              "        return;\n",
              "      }\n",
              "      const div = document.createElement('div');\n",
              "      const label = document.createElement('label');\n",
              "      label.textContent = `Downloading \"${filename}\": `;\n",
              "      div.appendChild(label);\n",
              "      const progress = document.createElement('progress');\n",
              "      progress.max = size;\n",
              "      div.appendChild(progress);\n",
              "      document.body.appendChild(div);\n",
              "\n",
              "      const buffers = [];\n",
              "      let downloaded = 0;\n",
              "\n",
              "      const channel = await google.colab.kernel.comms.open(id);\n",
              "      // Send a message to notify the kernel that we're ready.\n",
              "      channel.send({})\n",
              "\n",
              "      for await (const message of channel.messages) {\n",
              "        // Send a message to notify the kernel that we're ready.\n",
              "        channel.send({})\n",
              "        if (message.buffers) {\n",
              "          for (const buffer of message.buffers) {\n",
              "            buffers.push(buffer);\n",
              "            downloaded += buffer.byteLength;\n",
              "            progress.value = downloaded;\n",
              "          }\n",
              "        }\n",
              "      }\n",
              "      const blob = new Blob(buffers, {type: 'application/binary'});\n",
              "      const a = document.createElement('a');\n",
              "      a.href = window.URL.createObjectURL(blob);\n",
              "      a.download = filename;\n",
              "      div.appendChild(a);\n",
              "      a.click();\n",
              "      div.remove();\n",
              "    }\n",
              "  "
            ]
          },
          "metadata": {}
        },
        {
          "output_type": "display_data",
          "data": {
            "text/plain": [
              "<IPython.core.display.Javascript object>"
            ],
            "application/javascript": [
              "download(\"download_8fc8f7d8-f003-4bb6-bd97-8f063a11c9bc\", \"Healthcare_Dataset.xlsx\", 12959527)"
            ]
          },
          "metadata": {}
        }
      ]
    },
    {
      "cell_type": "code",
      "source": [
        "import pandas as pd\n",
        "from scipy import stats\n",
        "import numpy as np\n",
        "\n",
        "# Load dataset\n",
        "file_path = \"Healthcare_Dataset.xlsx\"   # make sure this file is in your working directory\n",
        "data = pd.read_excel(file_path)\n",
        "\n",
        "# Split into two groups\n",
        "group1 = data[data[\"HeartDisease\"] == \"Yes\"][\"BMI\"].dropna()\n",
        "group2 = data[data[\"HeartDisease\"] == \"No\"][\"BMI\"].dropna()\n",
        "\n",
        "# Calculate statistics\n",
        "mean1, mean2 = group1.mean(), group2.mean()\n",
        "var1, var2 = group1.var(), group2.var()\n",
        "n1, n2 = len(group1), len(group2)\n",
        "\n",
        "# Perform Welch's t-test (unequal variances)\n",
        "t_stat, p_val_two_tail = stats.ttest_ind(group1, group2, equal_var=False)\n",
        "p_val_one_tail = p_val_two_tail / 2\n",
        "\n",
        "# Degrees of freedom (Welch-Satterthwaite equation)\n",
        "df = (var1/n1 + var2/n2)**2 / ((var1**2)/((n1**2)*(n1-1)) + (var2**2)/((n2**2)*(n2-1)))\n",
        "\n",
        "# Critical values\n",
        "alpha = 0.05\n",
        "t_crit_one_tail = stats.t.ppf(1-alpha, df)\n",
        "t_crit_two_tail = stats.t.ppf(1-alpha/2, df)\n",
        "\n",
        "# Print results in table format\n",
        "print(\"t-Test: Two-Sample Assuming Unequal Variances\\n\")\n",
        "print(f\"{'':25} Variable 1 (HeartDisease=Yes)   Variable 2 (HeartDisease=No)\")\n",
        "print(f\"Mean{'':20} {mean1:.6f}   {mean2:.6f}\")\n",
        "print(f\"Variance{'':16} {var1:.6f}   {var2:.6f}\")\n",
        "print(f\"Observations{'':12} {n1}   {n2}\")\n",
        "print(f\"Hypothesized Mean Difference  0\")\n",
        "print(f\"df{'':24} {int(df)}\")\n",
        "print(f\"t Stat{'':20} {t_stat:.6f}\")\n",
        "print(f\"P(T<=t) one-tail{'':10} {p_val_one_tail:.6f}\")\n",
        "print(f\"t Critical one-tail{'':6} {t_crit_one_tail:.6f}\")\n",
        "print(f\"P(T<=t) two-tail{'':10} {p_val_two_tail:.6f}\")\n",
        "print(f\"t Critical two-tail{'':6} {t_crit_two_tail:.6f}\")\n"
      ],
      "metadata": {
        "colab": {
          "base_uri": "https://localhost:8080/"
        },
        "id": "0grpeYk13L5z",
        "outputId": "7ee886a9-5712-48ac-c67c-a79203ef1a26"
      },
      "execution_count": null,
      "outputs": [
        {
          "output_type": "stream",
          "name": "stdout",
          "text": [
            "t-Test: Two-Sample Assuming Unequal Variances\n",
            "\n",
            "                          Variable 1 (HeartDisease=Yes)   Variable 2 (HeartDisease=No)\n",
            "Mean                     27.008178   26.993774\n",
            "Variance                 25.261595   25.040171\n",
            "Observations             15089   134911\n",
            "Hypothesized Mean Difference  0\n",
            "df                         18593\n",
            "t Stat                     0.333998\n",
            "P(T<=t) one-tail           0.369192\n",
            "t Critical one-tail       1.644936\n",
            "P(T<=t) two-tail           0.738385\n",
            "t Critical two-tail       1.960092\n"
          ]
        }
      ]
    },
    {
      "cell_type": "code",
      "source": [
        "# Save results to a text file\n",
        "with open(\"t_test_results.txt\", \"w\") as f:\n",
        "    f.write(\"t-Test: Two-Sample Assuming Unequal Variances\\n\\n\")\n",
        "    f.write(f\"Mean (HeartDisease=Yes): {mean1:.6f}\\n\")\n",
        "    f.write(f\"Mean (HeartDisease=No): {mean2:.6f}\\n\")\n",
        "    f.write(f\"Variance (Yes): {var1:.6f}\\n\")\n",
        "    f.write(f\"Variance (No): {var2:.6f}\\n\")\n",
        "    f.write(f\"Observations (Yes): {n1}\\n\")\n",
        "    f.write(f\"Observations (No): {n2}\\n\")\n",
        "    f.write(f\"df: {int(df)}\\n\")\n",
        "    f.write(f\"t Stat: {t_stat:.6f}\\n\")\n",
        "    f.write(f\"P(T<=t) one-tail: {p_val_one_tail:.6f}\\n\")\n",
        "    f.write(f\"t Critical one-tail: {t_crit_one_tail:.6f}\\n\")\n",
        "    f.write(f\"P(T<=t) two-tail: {p_val_two_tail:.6f}\\n\")\n",
        "    f.write(f\"t Critical two-tail: {t_crit_two_tail:.6f}\\n\")\n",
        "\n",
        "# Download file\n",
        "from google.colab import files\n",
        "files.download(\"t_test_results.txt\")\n"
      ],
      "metadata": {
        "colab": {
          "base_uri": "https://localhost:8080/",
          "height": 17
        },
        "id": "EYHyfWSG3pQm",
        "outputId": "bef15a19-095d-4cdb-be49-0ee4205a1598"
      },
      "execution_count": null,
      "outputs": [
        {
          "output_type": "display_data",
          "data": {
            "text/plain": [
              "<IPython.core.display.Javascript object>"
            ],
            "application/javascript": [
              "\n",
              "    async function download(id, filename, size) {\n",
              "      if (!google.colab.kernel.accessAllowed) {\n",
              "        return;\n",
              "      }\n",
              "      const div = document.createElement('div');\n",
              "      const label = document.createElement('label');\n",
              "      label.textContent = `Downloading \"${filename}\": `;\n",
              "      div.appendChild(label);\n",
              "      const progress = document.createElement('progress');\n",
              "      progress.max = size;\n",
              "      div.appendChild(progress);\n",
              "      document.body.appendChild(div);\n",
              "\n",
              "      const buffers = [];\n",
              "      let downloaded = 0;\n",
              "\n",
              "      const channel = await google.colab.kernel.comms.open(id);\n",
              "      // Send a message to notify the kernel that we're ready.\n",
              "      channel.send({})\n",
              "\n",
              "      for await (const message of channel.messages) {\n",
              "        // Send a message to notify the kernel that we're ready.\n",
              "        channel.send({})\n",
              "        if (message.buffers) {\n",
              "          for (const buffer of message.buffers) {\n",
              "            buffers.push(buffer);\n",
              "            downloaded += buffer.byteLength;\n",
              "            progress.value = downloaded;\n",
              "          }\n",
              "        }\n",
              "      }\n",
              "      const blob = new Blob(buffers, {type: 'application/binary'});\n",
              "      const a = document.createElement('a');\n",
              "      a.href = window.URL.createObjectURL(blob);\n",
              "      a.download = filename;\n",
              "      div.appendChild(a);\n",
              "      a.click();\n",
              "      div.remove();\n",
              "    }\n",
              "  "
            ]
          },
          "metadata": {}
        },
        {
          "output_type": "display_data",
          "data": {
            "text/plain": [
              "<IPython.core.display.Javascript object>"
            ],
            "application/javascript": [
              "download(\"download_78be65b5-22a9-4f0b-8c69-37e1ee74af84\", \"t_test_results.txt\", 360)"
            ]
          },
          "metadata": {}
        }
      ]
    },
    {
      "cell_type": "code",
      "source": [
        "import pandas as pd\n",
        "from scipy import stats\n",
        "\n",
        "# Load your uploaded file\n",
        "file_path = \"Healthcare_Dataset.xlsx\"   # ensure it's uploaded in Colab\n",
        "data = pd.read_excel(file_path)\n",
        "\n",
        "# Group by SmokingStatus\n",
        "group_never = data[data[\"SmokingStatus\"] == \"Never\"][\"BMI\"].dropna()\n",
        "group_former = data[data[\"SmokingStatus\"] == \"Former\"][\"BMI\"].dropna()\n",
        "group_current = data[data[\"SmokingStatus\"] == \"Current\"][\"BMI\"].dropna()\n",
        "\n",
        "# Compute descriptive stats\n",
        "summary = pd.DataFrame({\n",
        "    \"Group\": [\"Never\", \"Former\", \"Current\"],\n",
        "    \"Mean BMI\": [group_never.mean(), group_former.mean(), group_current.mean()],\n",
        "    \"Variance\": [group_never.var(), group_former.var(), group_current.var()],\n",
        "    \"Observations\": [len(group_never), len(group_former), len(group_current)]\n",
        "})\n",
        "\n",
        "# Perform ANOVA\n",
        "f_stat, p_val = stats.f_oneway(group_never, group_former, group_current)\n",
        "\n",
        "print(\"\\nANOVA Data Table (for Healthcare_Dataset.xlsx):\\n\")\n",
        "print(summary.to_string(index=False))\n",
        "print(\"\\nF-statistic:\", f_stat)\n",
        "print(\"p-value:\", p_val)\n"
      ],
      "metadata": {
        "colab": {
          "base_uri": "https://localhost:8080/"
        },
        "id": "pjtp8HRU52Eg",
        "outputId": "69b4142d-8530-4b04-b7f0-33aaecf8df5a"
      },
      "execution_count": null,
      "outputs": [
        {
          "output_type": "stream",
          "name": "stdout",
          "text": [
            "\n",
            "ANOVA Data Table (for Healthcare_Dataset.xlsx):\n",
            "\n",
            "  Group  Mean BMI  Variance  Observations\n",
            "  Never 27.014820 25.011012         90438\n",
            " Former 26.952870 24.962092         37350\n",
            "Current 26.986651 25.437206         22212\n",
            "\n",
            "F-statistic: 2.062119814407832\n",
            "p-value: 0.12718768287476048\n"
          ]
        }
      ]
    },
    {
      "cell_type": "code",
      "source": [
        "# Save ANOVA results to CSV\n",
        "summary.to_csv(\"anova_summary.csv\", index=False)\n",
        "\n",
        "# Save test results to TXT\n",
        "with open(\"anova_results.txt\", \"w\") as f:\n",
        "    f.write(\"ANOVA Test: BMI across SmokingStatus groups\\n\\n\")\n",
        "    f.write(summary.to_string(index=False))\n",
        "    f.write(\"\\n\\nF-statistic: \" + str(f_stat))\n",
        "    f.write(\"\\nP-value: \" + str(p_val))\n",
        "\n",
        "# Download both files\n",
        "from google.colab import files\n",
        "files.download(\"anova_summary.csv\")\n",
        "files.download(\"anova_results.txt\")\n"
      ],
      "metadata": {
        "colab": {
          "base_uri": "https://localhost:8080/",
          "height": 17
        },
        "id": "vhaSAt_h5-Tn",
        "outputId": "9fc060f9-4dcc-447c-e879-f2ee862ba385"
      },
      "execution_count": null,
      "outputs": [
        {
          "output_type": "display_data",
          "data": {
            "text/plain": [
              "<IPython.core.display.Javascript object>"
            ],
            "application/javascript": [
              "\n",
              "    async function download(id, filename, size) {\n",
              "      if (!google.colab.kernel.accessAllowed) {\n",
              "        return;\n",
              "      }\n",
              "      const div = document.createElement('div');\n",
              "      const label = document.createElement('label');\n",
              "      label.textContent = `Downloading \"${filename}\": `;\n",
              "      div.appendChild(label);\n",
              "      const progress = document.createElement('progress');\n",
              "      progress.max = size;\n",
              "      div.appendChild(progress);\n",
              "      document.body.appendChild(div);\n",
              "\n",
              "      const buffers = [];\n",
              "      let downloaded = 0;\n",
              "\n",
              "      const channel = await google.colab.kernel.comms.open(id);\n",
              "      // Send a message to notify the kernel that we're ready.\n",
              "      channel.send({})\n",
              "\n",
              "      for await (const message of channel.messages) {\n",
              "        // Send a message to notify the kernel that we're ready.\n",
              "        channel.send({})\n",
              "        if (message.buffers) {\n",
              "          for (const buffer of message.buffers) {\n",
              "            buffers.push(buffer);\n",
              "            downloaded += buffer.byteLength;\n",
              "            progress.value = downloaded;\n",
              "          }\n",
              "        }\n",
              "      }\n",
              "      const blob = new Blob(buffers, {type: 'application/binary'});\n",
              "      const a = document.createElement('a');\n",
              "      a.href = window.URL.createObjectURL(blob);\n",
              "      a.download = filename;\n",
              "      div.appendChild(a);\n",
              "      a.click();\n",
              "      div.remove();\n",
              "    }\n",
              "  "
            ]
          },
          "metadata": {}
        },
        {
          "output_type": "display_data",
          "data": {
            "text/plain": [
              "<IPython.core.display.Javascript object>"
            ],
            "application/javascript": [
              "download(\"download_e5bd3f94-c4db-4e2b-a896-ce5a544f7de8\", \"anova_summary.csv\", 189)"
            ]
          },
          "metadata": {}
        },
        {
          "output_type": "display_data",
          "data": {
            "text/plain": [
              "<IPython.core.display.Javascript object>"
            ],
            "application/javascript": [
              "\n",
              "    async function download(id, filename, size) {\n",
              "      if (!google.colab.kernel.accessAllowed) {\n",
              "        return;\n",
              "      }\n",
              "      const div = document.createElement('div');\n",
              "      const label = document.createElement('label');\n",
              "      label.textContent = `Downloading \"${filename}\": `;\n",
              "      div.appendChild(label);\n",
              "      const progress = document.createElement('progress');\n",
              "      progress.max = size;\n",
              "      div.appendChild(progress);\n",
              "      document.body.appendChild(div);\n",
              "\n",
              "      const buffers = [];\n",
              "      let downloaded = 0;\n",
              "\n",
              "      const channel = await google.colab.kernel.comms.open(id);\n",
              "      // Send a message to notify the kernel that we're ready.\n",
              "      channel.send({})\n",
              "\n",
              "      for await (const message of channel.messages) {\n",
              "        // Send a message to notify the kernel that we're ready.\n",
              "        channel.send({})\n",
              "        if (message.buffers) {\n",
              "          for (const buffer of message.buffers) {\n",
              "            buffers.push(buffer);\n",
              "            downloaded += buffer.byteLength;\n",
              "            progress.value = downloaded;\n",
              "          }\n",
              "        }\n",
              "      }\n",
              "      const blob = new Blob(buffers, {type: 'application/binary'});\n",
              "      const a = document.createElement('a');\n",
              "      a.href = window.URL.createObjectURL(blob);\n",
              "      a.download = filename;\n",
              "      div.appendChild(a);\n",
              "      a.click();\n",
              "      div.remove();\n",
              "    }\n",
              "  "
            ]
          },
          "metadata": {}
        },
        {
          "output_type": "display_data",
          "data": {
            "text/plain": [
              "<IPython.core.display.Javascript object>"
            ],
            "application/javascript": [
              "download(\"download_848cdc98-c69e-4074-91bc-f53f937d9607\", \"anova_results.txt\", 273)"
            ]
          },
          "metadata": {}
        }
      ]
    },
    {
      "cell_type": "code",
      "source": [
        "import pandas as pd\n",
        "from scipy import stats\n",
        "from google.colab import files\n",
        "\n",
        "# Step 1: Load full dataset (150,000 rows)\n",
        "file_path = \"Healthcare_Dataset.xlsx\"   # upload file in Colab sidebar first\n",
        "data = pd.read_excel(file_path)\n",
        "\n",
        "# Step 2: Split BMI values by SmokingStatus groups\n",
        "group_never = data[data[\"SmokingStatus\"] == \"Never\"][\"BMI\"].dropna()\n",
        "group_former = data[data[\"SmokingStatus\"] == \"Former\"][\"BMI\"].dropna()\n",
        "group_current = data[data[\"SmokingStatus\"] == \"Current\"][\"BMI\"].dropna()\n",
        "\n",
        "# Step 3: Descriptive statistics\n",
        "summary = pd.DataFrame({\n",
        "    \"Group\": [\"Never\", \"Former\", \"Current\"],\n",
        "    \"Mean BMI\": [group_never.mean(), group_former.mean(), group_current.mean()],\n",
        "    \"Variance\": [group_never.var(), group_former.var(), group_current.var()],\n",
        "    \"Observations\": [len(group_never), len(group_former), len(group_current)]\n",
        "})\n",
        "\n",
        "# Step 4: Perform ANOVA\n",
        "f_stat, p_val = stats.f_oneway(group_never, group_former, group_current)\n",
        "\n",
        "# Step 5: Print results\n",
        "print(\"\\nANOVA Data Table (All 150,000 rows):\\n\")\n",
        "print(summary.to_string(index=False))\n",
        "print(\"\\nF-statistic:\", f_stat)\n",
        "print(\"p-value:\", p_val)\n",
        "\n",
        "# Step 6: Save and download results\n",
        "summary.to_csv(\"anova_summary.csv\", index=False)\n",
        "\n",
        "with open(\"anova_results.txt\", \"w\") as f:\n",
        "    f.write(\"ANOVA Test: BMI across SmokingStatus groups\\n\\n\")\n",
        "    f.write(summary.to_string(index=False))\n",
        "    f.write(\"\\n\\nF-statistic: \" + str(f_stat))\n",
        "    f.write(\"\\nP-value: \" + str(p_val))\n",
        "\n",
        "files.download(\"anova_summary.csv\")\n",
        "files.download(\"anova_results.txt\")\n"
      ],
      "metadata": {
        "colab": {
          "base_uri": "https://localhost:8080/",
          "height": 191
        },
        "id": "x6k0Bdq36r61",
        "outputId": "37ff13b4-9ac0-4944-f914-7d0dd9a5e727"
      },
      "execution_count": null,
      "outputs": [
        {
          "output_type": "stream",
          "name": "stdout",
          "text": [
            "\n",
            "ANOVA Data Table (All 150,000 rows):\n",
            "\n",
            "  Group  Mean BMI  Variance  Observations\n",
            "  Never 27.014820 25.011012         90438\n",
            " Former 26.952870 24.962092         37350\n",
            "Current 26.986651 25.437206         22212\n",
            "\n",
            "F-statistic: 2.062119814407832\n",
            "p-value: 0.12718768287476048\n"
          ]
        },
        {
          "output_type": "display_data",
          "data": {
            "text/plain": [
              "<IPython.core.display.Javascript object>"
            ],
            "application/javascript": [
              "\n",
              "    async function download(id, filename, size) {\n",
              "      if (!google.colab.kernel.accessAllowed) {\n",
              "        return;\n",
              "      }\n",
              "      const div = document.createElement('div');\n",
              "      const label = document.createElement('label');\n",
              "      label.textContent = `Downloading \"${filename}\": `;\n",
              "      div.appendChild(label);\n",
              "      const progress = document.createElement('progress');\n",
              "      progress.max = size;\n",
              "      div.appendChild(progress);\n",
              "      document.body.appendChild(div);\n",
              "\n",
              "      const buffers = [];\n",
              "      let downloaded = 0;\n",
              "\n",
              "      const channel = await google.colab.kernel.comms.open(id);\n",
              "      // Send a message to notify the kernel that we're ready.\n",
              "      channel.send({})\n",
              "\n",
              "      for await (const message of channel.messages) {\n",
              "        // Send a message to notify the kernel that we're ready.\n",
              "        channel.send({})\n",
              "        if (message.buffers) {\n",
              "          for (const buffer of message.buffers) {\n",
              "            buffers.push(buffer);\n",
              "            downloaded += buffer.byteLength;\n",
              "            progress.value = downloaded;\n",
              "          }\n",
              "        }\n",
              "      }\n",
              "      const blob = new Blob(buffers, {type: 'application/binary'});\n",
              "      const a = document.createElement('a');\n",
              "      a.href = window.URL.createObjectURL(blob);\n",
              "      a.download = filename;\n",
              "      div.appendChild(a);\n",
              "      a.click();\n",
              "      div.remove();\n",
              "    }\n",
              "  "
            ]
          },
          "metadata": {}
        },
        {
          "output_type": "display_data",
          "data": {
            "text/plain": [
              "<IPython.core.display.Javascript object>"
            ],
            "application/javascript": [
              "download(\"download_51e9e26c-a84a-4023-9488-6dbe2310ec03\", \"anova_summary.csv\", 189)"
            ]
          },
          "metadata": {}
        },
        {
          "output_type": "display_data",
          "data": {
            "text/plain": [
              "<IPython.core.display.Javascript object>"
            ],
            "application/javascript": [
              "\n",
              "    async function download(id, filename, size) {\n",
              "      if (!google.colab.kernel.accessAllowed) {\n",
              "        return;\n",
              "      }\n",
              "      const div = document.createElement('div');\n",
              "      const label = document.createElement('label');\n",
              "      label.textContent = `Downloading \"${filename}\": `;\n",
              "      div.appendChild(label);\n",
              "      const progress = document.createElement('progress');\n",
              "      progress.max = size;\n",
              "      div.appendChild(progress);\n",
              "      document.body.appendChild(div);\n",
              "\n",
              "      const buffers = [];\n",
              "      let downloaded = 0;\n",
              "\n",
              "      const channel = await google.colab.kernel.comms.open(id);\n",
              "      // Send a message to notify the kernel that we're ready.\n",
              "      channel.send({})\n",
              "\n",
              "      for await (const message of channel.messages) {\n",
              "        // Send a message to notify the kernel that we're ready.\n",
              "        channel.send({})\n",
              "        if (message.buffers) {\n",
              "          for (const buffer of message.buffers) {\n",
              "            buffers.push(buffer);\n",
              "            downloaded += buffer.byteLength;\n",
              "            progress.value = downloaded;\n",
              "          }\n",
              "        }\n",
              "      }\n",
              "      const blob = new Blob(buffers, {type: 'application/binary'});\n",
              "      const a = document.createElement('a');\n",
              "      a.href = window.URL.createObjectURL(blob);\n",
              "      a.download = filename;\n",
              "      div.appendChild(a);\n",
              "      a.click();\n",
              "      div.remove();\n",
              "    }\n",
              "  "
            ]
          },
          "metadata": {}
        },
        {
          "output_type": "display_data",
          "data": {
            "text/plain": [
              "<IPython.core.display.Javascript object>"
            ],
            "application/javascript": [
              "download(\"download_91c09b0f-fe15-4ade-8029-0d1cef31e293\", \"anova_results.txt\", 273)"
            ]
          },
          "metadata": {}
        }
      ]
    },
    {
      "cell_type": "code",
      "source": [
        "import pandas as pd\n",
        "\n",
        "# Load dataset\n",
        "data = pd.read_excel(\"Healthcare_Dataset.xlsx\")\n",
        "\n",
        "# The original code attempted to pivot on 'GenHlth', which does not exist.\n",
        "# I will remove the code that references 'GenHlth'.\n",
        "\n",
        "# Save for Excel - Saving the original data without the attempted pivot\n",
        "data.to_excel(\"ANOVA_Data.xlsx\", index=False)\n",
        "\n",
        "print(\"ANOVA_Data.xlsx created successfully!\")"
      ],
      "metadata": {
        "colab": {
          "base_uri": "https://localhost:8080/",
          "height": 547
        },
        "id": "O69KUFtr7FL_",
        "outputId": "7deb34e5-2900-43ea-83d2-32a2d67e265a"
      },
      "execution_count": null,
      "outputs": [
        {
          "output_type": "error",
          "ename": "KeyError",
          "evalue": "'GenHlth'",
          "traceback": [
            "\u001b[0;31m---------------------------------------------------------------------------\u001b[0m",
            "\u001b[0;31mKeyError\u001b[0m                                  Traceback (most recent call last)",
            "\u001b[0;32m/usr/local/lib/python3.12/dist-packages/pandas/core/indexes/base.py\u001b[0m in \u001b[0;36mget_loc\u001b[0;34m(self, key)\u001b[0m\n\u001b[1;32m   3804\u001b[0m         \u001b[0;32mtry\u001b[0m\u001b[0;34m:\u001b[0m\u001b[0;34m\u001b[0m\u001b[0;34m\u001b[0m\u001b[0m\n\u001b[0;32m-> 3805\u001b[0;31m             \u001b[0;32mreturn\u001b[0m \u001b[0mself\u001b[0m\u001b[0;34m.\u001b[0m\u001b[0m_engine\u001b[0m\u001b[0;34m.\u001b[0m\u001b[0mget_loc\u001b[0m\u001b[0;34m(\u001b[0m\u001b[0mcasted_key\u001b[0m\u001b[0;34m)\u001b[0m\u001b[0;34m\u001b[0m\u001b[0;34m\u001b[0m\u001b[0m\n\u001b[0m\u001b[1;32m   3806\u001b[0m         \u001b[0;32mexcept\u001b[0m \u001b[0mKeyError\u001b[0m \u001b[0;32mas\u001b[0m \u001b[0merr\u001b[0m\u001b[0;34m:\u001b[0m\u001b[0;34m\u001b[0m\u001b[0;34m\u001b[0m\u001b[0m\n",
            "\u001b[0;32mindex.pyx\u001b[0m in \u001b[0;36mpandas._libs.index.IndexEngine.get_loc\u001b[0;34m()\u001b[0m\n",
            "\u001b[0;32mindex.pyx\u001b[0m in \u001b[0;36mpandas._libs.index.IndexEngine.get_loc\u001b[0;34m()\u001b[0m\n",
            "\u001b[0;32mpandas/_libs/hashtable_class_helper.pxi\u001b[0m in \u001b[0;36mpandas._libs.hashtable.PyObjectHashTable.get_item\u001b[0;34m()\u001b[0m\n",
            "\u001b[0;32mpandas/_libs/hashtable_class_helper.pxi\u001b[0m in \u001b[0;36mpandas._libs.hashtable.PyObjectHashTable.get_item\u001b[0;34m()\u001b[0m\n",
            "\u001b[0;31mKeyError\u001b[0m: 'GenHlth'",
            "\nThe above exception was the direct cause of the following exception:\n",
            "\u001b[0;31mKeyError\u001b[0m                                  Traceback (most recent call last)",
            "\u001b[0;32m/tmp/ipython-input-1943710044.py\u001b[0m in \u001b[0;36m<cell line: 0>\u001b[0;34m()\u001b[0m\n\u001b[1;32m      5\u001b[0m \u001b[0;34m\u001b[0m\u001b[0m\n\u001b[1;32m      6\u001b[0m \u001b[0;31m# Assume GenHlth column already exists (1–5 scale)\u001b[0m\u001b[0;34m\u001b[0m\u001b[0;34m\u001b[0m\u001b[0m\n\u001b[0;32m----> 7\u001b[0;31m \u001b[0manova_data\u001b[0m \u001b[0;34m=\u001b[0m \u001b[0mdata\u001b[0m\u001b[0;34m.\u001b[0m\u001b[0mpivot\u001b[0m\u001b[0;34m(\u001b[0m\u001b[0mcolumns\u001b[0m\u001b[0;34m=\u001b[0m\u001b[0;34m\"GenHlth\"\u001b[0m\u001b[0;34m,\u001b[0m \u001b[0mvalues\u001b[0m\u001b[0;34m=\u001b[0m\u001b[0;34m\"BMI\"\u001b[0m\u001b[0;34m)\u001b[0m\u001b[0;34m\u001b[0m\u001b[0;34m\u001b[0m\u001b[0m\n\u001b[0m\u001b[1;32m      8\u001b[0m \u001b[0;34m\u001b[0m\u001b[0m\n\u001b[1;32m      9\u001b[0m \u001b[0;31m# Rename columns for clarity\u001b[0m\u001b[0;34m\u001b[0m\u001b[0;34m\u001b[0m\u001b[0m\n",
            "\u001b[0;32m/usr/local/lib/python3.12/dist-packages/pandas/core/frame.py\u001b[0m in \u001b[0;36mpivot\u001b[0;34m(self, columns, index, values)\u001b[0m\n\u001b[1;32m   9337\u001b[0m         \u001b[0;32mfrom\u001b[0m \u001b[0mpandas\u001b[0m\u001b[0;34m.\u001b[0m\u001b[0mcore\u001b[0m\u001b[0;34m.\u001b[0m\u001b[0mreshape\u001b[0m\u001b[0;34m.\u001b[0m\u001b[0mpivot\u001b[0m \u001b[0;32mimport\u001b[0m \u001b[0mpivot\u001b[0m\u001b[0;34m\u001b[0m\u001b[0;34m\u001b[0m\u001b[0m\n\u001b[1;32m   9338\u001b[0m \u001b[0;34m\u001b[0m\u001b[0m\n\u001b[0;32m-> 9339\u001b[0;31m         \u001b[0;32mreturn\u001b[0m \u001b[0mpivot\u001b[0m\u001b[0;34m(\u001b[0m\u001b[0mself\u001b[0m\u001b[0;34m,\u001b[0m \u001b[0mindex\u001b[0m\u001b[0;34m=\u001b[0m\u001b[0mindex\u001b[0m\u001b[0;34m,\u001b[0m \u001b[0mcolumns\u001b[0m\u001b[0;34m=\u001b[0m\u001b[0mcolumns\u001b[0m\u001b[0;34m,\u001b[0m \u001b[0mvalues\u001b[0m\u001b[0;34m=\u001b[0m\u001b[0mvalues\u001b[0m\u001b[0;34m)\u001b[0m\u001b[0;34m\u001b[0m\u001b[0;34m\u001b[0m\u001b[0m\n\u001b[0m\u001b[1;32m   9340\u001b[0m \u001b[0;34m\u001b[0m\u001b[0m\n\u001b[1;32m   9341\u001b[0m     _shared_docs[\n",
            "\u001b[0;32m/usr/local/lib/python3.12/dist-packages/pandas/core/reshape/pivot.py\u001b[0m in \u001b[0;36mpivot\u001b[0;34m(data, columns, index, values)\u001b[0m\n\u001b[1;32m    553\u001b[0m             \u001b[0mindex_list\u001b[0m \u001b[0;34m=\u001b[0m \u001b[0;34m[\u001b[0m\u001b[0mdata\u001b[0m\u001b[0;34m[\u001b[0m\u001b[0midx\u001b[0m\u001b[0;34m]\u001b[0m \u001b[0;32mfor\u001b[0m \u001b[0midx\u001b[0m \u001b[0;32min\u001b[0m \u001b[0mcom\u001b[0m\u001b[0;34m.\u001b[0m\u001b[0mconvert_to_list_like\u001b[0m\u001b[0;34m(\u001b[0m\u001b[0mindex\u001b[0m\u001b[0;34m)\u001b[0m\u001b[0;34m]\u001b[0m\u001b[0;34m\u001b[0m\u001b[0;34m\u001b[0m\u001b[0m\n\u001b[1;32m    554\u001b[0m \u001b[0;34m\u001b[0m\u001b[0m\n\u001b[0;32m--> 555\u001b[0;31m         \u001b[0mdata_columns\u001b[0m \u001b[0;34m=\u001b[0m \u001b[0;34m[\u001b[0m\u001b[0mdata\u001b[0m\u001b[0;34m[\u001b[0m\u001b[0mcol\u001b[0m\u001b[0;34m]\u001b[0m \u001b[0;32mfor\u001b[0m \u001b[0mcol\u001b[0m \u001b[0;32min\u001b[0m \u001b[0mcolumns_listlike\u001b[0m\u001b[0;34m]\u001b[0m\u001b[0;34m\u001b[0m\u001b[0;34m\u001b[0m\u001b[0m\n\u001b[0m\u001b[1;32m    556\u001b[0m         \u001b[0mindex_list\u001b[0m\u001b[0;34m.\u001b[0m\u001b[0mextend\u001b[0m\u001b[0;34m(\u001b[0m\u001b[0mdata_columns\u001b[0m\u001b[0;34m)\u001b[0m\u001b[0;34m\u001b[0m\u001b[0;34m\u001b[0m\u001b[0m\n\u001b[1;32m    557\u001b[0m         \u001b[0mmultiindex\u001b[0m \u001b[0;34m=\u001b[0m \u001b[0mMultiIndex\u001b[0m\u001b[0;34m.\u001b[0m\u001b[0mfrom_arrays\u001b[0m\u001b[0;34m(\u001b[0m\u001b[0mindex_list\u001b[0m\u001b[0;34m)\u001b[0m\u001b[0;34m\u001b[0m\u001b[0;34m\u001b[0m\u001b[0m\n",
            "\u001b[0;32m/usr/local/lib/python3.12/dist-packages/pandas/core/frame.py\u001b[0m in \u001b[0;36m__getitem__\u001b[0;34m(self, key)\u001b[0m\n\u001b[1;32m   4100\u001b[0m             \u001b[0;32mif\u001b[0m \u001b[0mself\u001b[0m\u001b[0;34m.\u001b[0m\u001b[0mcolumns\u001b[0m\u001b[0;34m.\u001b[0m\u001b[0mnlevels\u001b[0m \u001b[0;34m>\u001b[0m \u001b[0;36m1\u001b[0m\u001b[0;34m:\u001b[0m\u001b[0;34m\u001b[0m\u001b[0;34m\u001b[0m\u001b[0m\n\u001b[1;32m   4101\u001b[0m                 \u001b[0;32mreturn\u001b[0m \u001b[0mself\u001b[0m\u001b[0;34m.\u001b[0m\u001b[0m_getitem_multilevel\u001b[0m\u001b[0;34m(\u001b[0m\u001b[0mkey\u001b[0m\u001b[0;34m)\u001b[0m\u001b[0;34m\u001b[0m\u001b[0;34m\u001b[0m\u001b[0m\n\u001b[0;32m-> 4102\u001b[0;31m             \u001b[0mindexer\u001b[0m \u001b[0;34m=\u001b[0m \u001b[0mself\u001b[0m\u001b[0;34m.\u001b[0m\u001b[0mcolumns\u001b[0m\u001b[0;34m.\u001b[0m\u001b[0mget_loc\u001b[0m\u001b[0;34m(\u001b[0m\u001b[0mkey\u001b[0m\u001b[0;34m)\u001b[0m\u001b[0;34m\u001b[0m\u001b[0;34m\u001b[0m\u001b[0m\n\u001b[0m\u001b[1;32m   4103\u001b[0m             \u001b[0;32mif\u001b[0m \u001b[0mis_integer\u001b[0m\u001b[0;34m(\u001b[0m\u001b[0mindexer\u001b[0m\u001b[0;34m)\u001b[0m\u001b[0;34m:\u001b[0m\u001b[0;34m\u001b[0m\u001b[0;34m\u001b[0m\u001b[0m\n\u001b[1;32m   4104\u001b[0m                 \u001b[0mindexer\u001b[0m \u001b[0;34m=\u001b[0m \u001b[0;34m[\u001b[0m\u001b[0mindexer\u001b[0m\u001b[0;34m]\u001b[0m\u001b[0;34m\u001b[0m\u001b[0;34m\u001b[0m\u001b[0m\n",
            "\u001b[0;32m/usr/local/lib/python3.12/dist-packages/pandas/core/indexes/base.py\u001b[0m in \u001b[0;36mget_loc\u001b[0;34m(self, key)\u001b[0m\n\u001b[1;32m   3810\u001b[0m             ):\n\u001b[1;32m   3811\u001b[0m                 \u001b[0;32mraise\u001b[0m \u001b[0mInvalidIndexError\u001b[0m\u001b[0;34m(\u001b[0m\u001b[0mkey\u001b[0m\u001b[0;34m)\u001b[0m\u001b[0;34m\u001b[0m\u001b[0;34m\u001b[0m\u001b[0m\n\u001b[0;32m-> 3812\u001b[0;31m             \u001b[0;32mraise\u001b[0m \u001b[0mKeyError\u001b[0m\u001b[0;34m(\u001b[0m\u001b[0mkey\u001b[0m\u001b[0;34m)\u001b[0m \u001b[0;32mfrom\u001b[0m \u001b[0merr\u001b[0m\u001b[0;34m\u001b[0m\u001b[0;34m\u001b[0m\u001b[0m\n\u001b[0m\u001b[1;32m   3813\u001b[0m         \u001b[0;32mexcept\u001b[0m \u001b[0mTypeError\u001b[0m\u001b[0;34m:\u001b[0m\u001b[0;34m\u001b[0m\u001b[0;34m\u001b[0m\u001b[0m\n\u001b[1;32m   3814\u001b[0m             \u001b[0;31m# If we have a listlike key, _check_indexing_error will raise\u001b[0m\u001b[0;34m\u001b[0m\u001b[0;34m\u001b[0m\u001b[0m\n",
            "\u001b[0;31mKeyError\u001b[0m: 'GenHlth'"
          ]
        }
      ]
    },
    {
      "cell_type": "code",
      "source": [
        "# ANOVA helper: add GenHlth if missing, prepare ANOVA input, compute ANOVA, save & download files\n",
        "import pandas as pd\n",
        "import numpy as np\n",
        "from scipy import stats\n",
        "import os\n",
        "\n",
        "# If using Colab and want automatic download uncomment the next line\n",
        "IN_COLAB = True\n",
        "\n",
        "# --- 1) Load your file ---\n",
        "file_path = \"Healthcare_Dataset.xlsx\"   # upload this file to Colab or put in notebook folder\n",
        "if not os.path.exists(file_path):\n",
        "    raise FileNotFoundError(f\"Cannot find '{file_path}' in working directory. Upload the file first.\")\n",
        "\n",
        "df = pd.read_excel(file_path)\n",
        "print(\"Loaded file. Columns:\", df.columns.tolist())\n",
        "\n",
        "# --- 2) Ensure BMI exists ---\n",
        "if 'BMI' not in df.columns:\n",
        "    raise KeyError(\"Column 'BMI' not found. ANOVA requires the BMI column.\")\n",
        "\n",
        "# --- 3) Create GenHlth if missing ---\n",
        "if 'GenHlth' in df.columns:\n",
        "    print(\"GenHlth already present. Skipping creation.\")\n",
        "else:\n",
        "    print(\"GenHlth not present. Attempting to create it from available columns...\")\n",
        "\n",
        "    # Prefer combining physical & mental measures if available\n",
        "    phys_col = None\n",
        "    ment_col = None\n",
        "    for c in ['PhysicalHealthScore', 'PhysHlth', 'Physical_Health', 'PhysHealth']:\n",
        "        if c in df.columns:\n",
        "            phys_col = c\n",
        "            break\n",
        "    for c in ['MentalHealthScore', 'MentHlth', 'Mental_Health', 'MentHealth']:\n",
        "        if c in df.columns:\n",
        "            ment_col = c\n",
        "            break\n",
        "\n",
        "    if phys_col and ment_col:\n",
        "        print(f\"Using '{phys_col}' and '{ment_col}' to derive GenHlth.\")\n",
        "        phys = df[phys_col].fillna(df[phys_col].median())\n",
        "        ment = df[ment_col].fillna(df[ment_col].median())\n",
        "        combined = phys + ment   # range typically 0-60 if both 0-30\n",
        "        # Try quantile binning into 5 roughly-equal groups\n",
        "        try:\n",
        "            df['GenHlth'] = pd.qcut(combined, 5, labels=[1,2,3,4,5]).astype(int)\n",
        "        except Exception:\n",
        "            # fallback: min-max scale to 1..5\n",
        "            s = (combined - combined.min())/(combined.max() - combined.min())\n",
        "            df['GenHlth'] = (np.floor(s*5) + 1).clip(1,5).astype(int)\n",
        "    else:\n",
        "        # Fallback: create GenHlth from BMI distribution (approximation)\n",
        "        print(\"Physical/Mental columns not found. Creating GenHlth from BMI quantiles (approximation).\")\n",
        "        bmi = df['BMI'].fillna(df['BMI'].median())\n",
        "        try:\n",
        "            df['GenHlth'] = pd.qcut(bmi, 5, labels=[1,2,3,4,5]).astype(int)\n",
        "        except Exception:\n",
        "            s = (bmi - bmi.min())/(bmi.max() - bmi.min())\n",
        "            df['GenHlth'] = (np.floor(s*5) + 1).clip(1,5).astype(int)\n",
        "\n",
        "    print(\"GenHlth created. Value counts:\")\n",
        "    print(df['GenHlth'].value_counts().sort_index())\n",
        "\n",
        "# --- 4) Build groups for ANOVA (GenHlth = 1..5) ---\n",
        "groups = {}\n",
        "for g in [1,2,3,4,5]:\n",
        "    grp = df.loc[df['GenHlth'] == g, 'BMI'].dropna().reset_index(drop=True)\n",
        "    groups[g] = grp\n",
        "    print(f\"Group {g}: n={len(grp)}, mean={grp.mean():.4f}, var={grp.var():.4f}\")\n",
        "\n",
        "# Ensure at least 2 groups have data\n",
        "non_empty = [g for g in groups if len(groups[g])>0]\n",
        "if len(non_empty) < 2:\n",
        "    raise ValueError(\"Not enough groups with data for ANOVA. Need at least two GenHlth groups with BMI values.\")\n",
        "\n",
        "# --- 5) ANOVA test (one-way) ---\n",
        "# Only include non-empty groups\n",
        "data_for_anova = [groups[g] for g in non_empty]\n",
        "f_stat, p_val = stats.f_oneway(*data_for_anova)\n",
        "print(\"\\nANOVA (one-way) results:\")\n",
        "print(\"F-statistic:\", f_stat)\n",
        "print(\"p-value:\", p_val)\n",
        "\n",
        "# --- 6) Create ANOVA summary table ---\n",
        "summary = pd.DataFrame({\n",
        "    \"GenHlth\": [g for g in non_empty],\n",
        "    \"Mean BMI\": [groups[g].mean() for g in non_empty],\n",
        "    \"Variance\": [groups[g].var() for g in non_empty],\n",
        "    \"Observations\": [len(groups[g]) for g in non_empty]\n",
        "})\n",
        "\n",
        "# --- 7) Prepare Excel-style ANOVA input: columns Health 1..5 padded with NaN to equal length ---\n",
        "max_len = max(len(groups[g]) for g in [1,2,3,4,5])\n",
        "anova_input = {}\n",
        "for g in [1,2,3,4,5]:\n",
        "    s = groups[g]\n",
        "    # pad with NaN to max_len\n",
        "    anova_input[f\"Health {g}\"] = s.reindex(range(max_len)).reset_index(drop=True)\n",
        "\n",
        "anova_df = pd.DataFrame(anova_input)\n",
        "\n",
        "# Optionally add a long-format snippet (first rows) with BMI & GenHlth for reference (not required by Excel ANOVA)\n",
        "long_sample = df[['BMI','GenHlth']].reset_index(drop=True)\n",
        "\n",
        "# --- 8) Save files ---\n",
        "out1 = \"Healthcare_with_GenHlth.xlsx\"\n",
        "out2 = \"ANOVA_Input_Health_Groups.xlsx\"\n",
        "out3 = \"anova_summary.csv\"\n",
        "out4 = \"anova_results.txt\"\n",
        "\n",
        "df.to_excel(out1, index=False)                # original data plus GenHlth\n",
        "anova_df.to_excel(out2, index=False)          # Excel-ready ANOVA columns (Health 1..5)\n",
        "summary.to_csv(out3, index=False)             # summary table\n",
        "with open(out4, \"w\") as f:\n",
        "    f.write(\"ANOVA Test: BMI across GenHlth groups\\n\\n\")\n",
        "    f.write(summary.to_string(index=False))\n",
        "    f.write(\"\\n\\nF-statistic: \" + str(f_stat))\n",
        "    f.write(\"\\nP-value: \" + str(p_val))\n",
        "\n",
        "print(\"\\nSaved files:\", out1, out2, out3, out4)\n",
        "\n",
        "# --- 9) (Colab only) trigger downloads ---\n",
        "if IN_COLAB:\n",
        "    try:\n",
        "        from google.colab import files\n",
        "        files.download(out1)\n",
        "        files.download(out2)\n",
        "        files.download(out3)\n",
        "        files.download(out4)\n",
        "    except Exception as e:\n",
        "        print(\"Automatic downloads failed (this may happen outside Colab). Files are saved in working directory.\")\n"
      ],
      "metadata": {
        "colab": {
          "base_uri": "https://localhost:8080/",
          "height": 419
        },
        "id": "T3SOgxvo7xEY",
        "outputId": "4f2bcd22-3a67-45c8-c2d5-6bff30750185"
      },
      "execution_count": null,
      "outputs": [
        {
          "output_type": "stream",
          "name": "stdout",
          "text": [
            "Loaded file. Columns: ['PatientID', 'Age', 'Gender', 'BMI', 'BloodPressure_Systolic', 'BloodPressure_Diastolic', 'CholesterolLevel', 'BloodSugarFasting', 'SmokingStatus', 'ExerciseFreq', 'SleepHours', 'AlcoholConsumption', 'MentalHealthScore', 'PhysicalHealthScore', 'HeartDisease', 'KidneyDisease', 'CancerHistory', 'MedicationAdherence', 'HospitalVisitsLastYear', 'Outcome']\n",
            "GenHlth not present. Attempting to create it from available columns...\n",
            "Using 'PhysicalHealthScore' and 'MentalHealthScore' to derive GenHlth.\n",
            "GenHlth created. Value counts:\n",
            "GenHlth\n",
            "1    32956\n",
            "2    30490\n",
            "3    27489\n",
            "4    29365\n",
            "5    29700\n",
            "Name: count, dtype: int64\n",
            "Group 1: n=32956, mean=27.0206, var=25.4059\n",
            "Group 2: n=30490, mean=26.9987, var=24.9345\n",
            "Group 3: n=27489, mean=27.0122, var=24.7813\n",
            "Group 4: n=29365, mean=26.9608, var=25.1696\n",
            "Group 5: n=29700, mean=26.9818, var=24.9672\n",
            "\n",
            "ANOVA (one-way) results:\n",
            "F-statistic: 0.6945053783389419\n",
            "p-value: 0.5956337636951834\n",
            "\n",
            "Saved files: Healthcare_with_GenHlth.xlsx ANOVA_Input_Health_Groups.xlsx anova_summary.csv anova_results.txt\n"
          ]
        },
        {
          "output_type": "display_data",
          "data": {
            "text/plain": [
              "<IPython.core.display.Javascript object>"
            ],
            "application/javascript": [
              "\n",
              "    async function download(id, filename, size) {\n",
              "      if (!google.colab.kernel.accessAllowed) {\n",
              "        return;\n",
              "      }\n",
              "      const div = document.createElement('div');\n",
              "      const label = document.createElement('label');\n",
              "      label.textContent = `Downloading \"${filename}\": `;\n",
              "      div.appendChild(label);\n",
              "      const progress = document.createElement('progress');\n",
              "      progress.max = size;\n",
              "      div.appendChild(progress);\n",
              "      document.body.appendChild(div);\n",
              "\n",
              "      const buffers = [];\n",
              "      let downloaded = 0;\n",
              "\n",
              "      const channel = await google.colab.kernel.comms.open(id);\n",
              "      // Send a message to notify the kernel that we're ready.\n",
              "      channel.send({})\n",
              "\n",
              "      for await (const message of channel.messages) {\n",
              "        // Send a message to notify the kernel that we're ready.\n",
              "        channel.send({})\n",
              "        if (message.buffers) {\n",
              "          for (const buffer of message.buffers) {\n",
              "            buffers.push(buffer);\n",
              "            downloaded += buffer.byteLength;\n",
              "            progress.value = downloaded;\n",
              "          }\n",
              "        }\n",
              "      }\n",
              "      const blob = new Blob(buffers, {type: 'application/binary'});\n",
              "      const a = document.createElement('a');\n",
              "      a.href = window.URL.createObjectURL(blob);\n",
              "      a.download = filename;\n",
              "      div.appendChild(a);\n",
              "      a.click();\n",
              "      div.remove();\n",
              "    }\n",
              "  "
            ]
          },
          "metadata": {}
        },
        {
          "output_type": "display_data",
          "data": {
            "text/plain": [
              "<IPython.core.display.Javascript object>"
            ],
            "application/javascript": [
              "download(\"download_14924259-7f06-44f1-98e2-5972bd7dc1b6\", \"Healthcare_with_GenHlth.xlsx\", 13579235)"
            ]
          },
          "metadata": {}
        },
        {
          "output_type": "display_data",
          "data": {
            "text/plain": [
              "<IPython.core.display.Javascript object>"
            ],
            "application/javascript": [
              "\n",
              "    async function download(id, filename, size) {\n",
              "      if (!google.colab.kernel.accessAllowed) {\n",
              "        return;\n",
              "      }\n",
              "      const div = document.createElement('div');\n",
              "      const label = document.createElement('label');\n",
              "      label.textContent = `Downloading \"${filename}\": `;\n",
              "      div.appendChild(label);\n",
              "      const progress = document.createElement('progress');\n",
              "      progress.max = size;\n",
              "      div.appendChild(progress);\n",
              "      document.body.appendChild(div);\n",
              "\n",
              "      const buffers = [];\n",
              "      let downloaded = 0;\n",
              "\n",
              "      const channel = await google.colab.kernel.comms.open(id);\n",
              "      // Send a message to notify the kernel that we're ready.\n",
              "      channel.send({})\n",
              "\n",
              "      for await (const message of channel.messages) {\n",
              "        // Send a message to notify the kernel that we're ready.\n",
              "        channel.send({})\n",
              "        if (message.buffers) {\n",
              "          for (const buffer of message.buffers) {\n",
              "            buffers.push(buffer);\n",
              "            downloaded += buffer.byteLength;\n",
              "            progress.value = downloaded;\n",
              "          }\n",
              "        }\n",
              "      }\n",
              "      const blob = new Blob(buffers, {type: 'application/binary'});\n",
              "      const a = document.createElement('a');\n",
              "      a.href = window.URL.createObjectURL(blob);\n",
              "      a.download = filename;\n",
              "      div.appendChild(a);\n",
              "      a.click();\n",
              "      div.remove();\n",
              "    }\n",
              "  "
            ]
          },
          "metadata": {}
        },
        {
          "output_type": "display_data",
          "data": {
            "text/plain": [
              "<IPython.core.display.Javascript object>"
            ],
            "application/javascript": [
              "download(\"download_2602f9cf-9f20-4865-b8ed-74967ab9bb6c\", \"ANOVA_Input_Health_Groups.xlsx\", 809646)"
            ]
          },
          "metadata": {}
        },
        {
          "output_type": "display_data",
          "data": {
            "text/plain": [
              "<IPython.core.display.Javascript object>"
            ],
            "application/javascript": [
              "\n",
              "    async function download(id, filename, size) {\n",
              "      if (!google.colab.kernel.accessAllowed) {\n",
              "        return;\n",
              "      }\n",
              "      const div = document.createElement('div');\n",
              "      const label = document.createElement('label');\n",
              "      label.textContent = `Downloading \"${filename}\": `;\n",
              "      div.appendChild(label);\n",
              "      const progress = document.createElement('progress');\n",
              "      progress.max = size;\n",
              "      div.appendChild(progress);\n",
              "      document.body.appendChild(div);\n",
              "\n",
              "      const buffers = [];\n",
              "      let downloaded = 0;\n",
              "\n",
              "      const channel = await google.colab.kernel.comms.open(id);\n",
              "      // Send a message to notify the kernel that we're ready.\n",
              "      channel.send({})\n",
              "\n",
              "      for await (const message of channel.messages) {\n",
              "        // Send a message to notify the kernel that we're ready.\n",
              "        channel.send({})\n",
              "        if (message.buffers) {\n",
              "          for (const buffer of message.buffers) {\n",
              "            buffers.push(buffer);\n",
              "            downloaded += buffer.byteLength;\n",
              "            progress.value = downloaded;\n",
              "          }\n",
              "        }\n",
              "      }\n",
              "      const blob = new Blob(buffers, {type: 'application/binary'});\n",
              "      const a = document.createElement('a');\n",
              "      a.href = window.URL.createObjectURL(blob);\n",
              "      a.download = filename;\n",
              "      div.appendChild(a);\n",
              "      a.click();\n",
              "      div.remove();\n",
              "    }\n",
              "  "
            ]
          },
          "metadata": {}
        },
        {
          "output_type": "display_data",
          "data": {
            "text/plain": [
              "<IPython.core.display.Javascript object>"
            ],
            "application/javascript": [
              "download(\"download_b60f09c5-0e0d-4d01-bea2-deea5d4fd770\", \"anova_summary.csv\", 267)"
            ]
          },
          "metadata": {}
        },
        {
          "output_type": "display_data",
          "data": {
            "text/plain": [
              "<IPython.core.display.Javascript object>"
            ],
            "application/javascript": [
              "\n",
              "    async function download(id, filename, size) {\n",
              "      if (!google.colab.kernel.accessAllowed) {\n",
              "        return;\n",
              "      }\n",
              "      const div = document.createElement('div');\n",
              "      const label = document.createElement('label');\n",
              "      label.textContent = `Downloading \"${filename}\": `;\n",
              "      div.appendChild(label);\n",
              "      const progress = document.createElement('progress');\n",
              "      progress.max = size;\n",
              "      div.appendChild(progress);\n",
              "      document.body.appendChild(div);\n",
              "\n",
              "      const buffers = [];\n",
              "      let downloaded = 0;\n",
              "\n",
              "      const channel = await google.colab.kernel.comms.open(id);\n",
              "      // Send a message to notify the kernel that we're ready.\n",
              "      channel.send({})\n",
              "\n",
              "      for await (const message of channel.messages) {\n",
              "        // Send a message to notify the kernel that we're ready.\n",
              "        channel.send({})\n",
              "        if (message.buffers) {\n",
              "          for (const buffer of message.buffers) {\n",
              "            buffers.push(buffer);\n",
              "            downloaded += buffer.byteLength;\n",
              "            progress.value = downloaded;\n",
              "          }\n",
              "        }\n",
              "      }\n",
              "      const blob = new Blob(buffers, {type: 'application/binary'});\n",
              "      const a = document.createElement('a');\n",
              "      a.href = window.URL.createObjectURL(blob);\n",
              "      a.download = filename;\n",
              "      div.appendChild(a);\n",
              "      a.click();\n",
              "      div.remove();\n",
              "    }\n",
              "  "
            ]
          },
          "metadata": {}
        },
        {
          "output_type": "display_data",
          "data": {
            "text/plain": [
              "<IPython.core.display.Javascript object>"
            ],
            "application/javascript": [
              "download(\"download_5009f826-ec3f-418d-99d2-a417ab533e8d\", \"anova_results.txt\", 357)"
            ]
          },
          "metadata": {}
        }
      ]
    },
    {
      "cell_type": "code",
      "source": [
        "from google.colab import files\n",
        "files.download(out1)  # Healthcare_with_GenHlth.xlsx\n",
        "files.download(out2)  # ANOVA_Input_Health_Groups.xlsx\n",
        "files.download(out3)  # anova_summary.csv\n",
        "files.download(out4)  # anova_results.txt\n"
      ],
      "metadata": {
        "colab": {
          "base_uri": "https://localhost:8080/",
          "height": 17
        },
        "id": "01wiTL0f8IbZ",
        "outputId": "c7f543e1-7a40-4c8b-e909-7e766d88affc"
      },
      "execution_count": null,
      "outputs": [
        {
          "output_type": "display_data",
          "data": {
            "text/plain": [
              "<IPython.core.display.Javascript object>"
            ],
            "application/javascript": [
              "\n",
              "    async function download(id, filename, size) {\n",
              "      if (!google.colab.kernel.accessAllowed) {\n",
              "        return;\n",
              "      }\n",
              "      const div = document.createElement('div');\n",
              "      const label = document.createElement('label');\n",
              "      label.textContent = `Downloading \"${filename}\": `;\n",
              "      div.appendChild(label);\n",
              "      const progress = document.createElement('progress');\n",
              "      progress.max = size;\n",
              "      div.appendChild(progress);\n",
              "      document.body.appendChild(div);\n",
              "\n",
              "      const buffers = [];\n",
              "      let downloaded = 0;\n",
              "\n",
              "      const channel = await google.colab.kernel.comms.open(id);\n",
              "      // Send a message to notify the kernel that we're ready.\n",
              "      channel.send({})\n",
              "\n",
              "      for await (const message of channel.messages) {\n",
              "        // Send a message to notify the kernel that we're ready.\n",
              "        channel.send({})\n",
              "        if (message.buffers) {\n",
              "          for (const buffer of message.buffers) {\n",
              "            buffers.push(buffer);\n",
              "            downloaded += buffer.byteLength;\n",
              "            progress.value = downloaded;\n",
              "          }\n",
              "        }\n",
              "      }\n",
              "      const blob = new Blob(buffers, {type: 'application/binary'});\n",
              "      const a = document.createElement('a');\n",
              "      a.href = window.URL.createObjectURL(blob);\n",
              "      a.download = filename;\n",
              "      div.appendChild(a);\n",
              "      a.click();\n",
              "      div.remove();\n",
              "    }\n",
              "  "
            ]
          },
          "metadata": {}
        },
        {
          "output_type": "display_data",
          "data": {
            "text/plain": [
              "<IPython.core.display.Javascript object>"
            ],
            "application/javascript": [
              "download(\"download_3ad60263-2f02-4d2e-9edd-08375623148b\", \"Healthcare_with_GenHlth.xlsx\", 13579235)"
            ]
          },
          "metadata": {}
        },
        {
          "output_type": "display_data",
          "data": {
            "text/plain": [
              "<IPython.core.display.Javascript object>"
            ],
            "application/javascript": [
              "\n",
              "    async function download(id, filename, size) {\n",
              "      if (!google.colab.kernel.accessAllowed) {\n",
              "        return;\n",
              "      }\n",
              "      const div = document.createElement('div');\n",
              "      const label = document.createElement('label');\n",
              "      label.textContent = `Downloading \"${filename}\": `;\n",
              "      div.appendChild(label);\n",
              "      const progress = document.createElement('progress');\n",
              "      progress.max = size;\n",
              "      div.appendChild(progress);\n",
              "      document.body.appendChild(div);\n",
              "\n",
              "      const buffers = [];\n",
              "      let downloaded = 0;\n",
              "\n",
              "      const channel = await google.colab.kernel.comms.open(id);\n",
              "      // Send a message to notify the kernel that we're ready.\n",
              "      channel.send({})\n",
              "\n",
              "      for await (const message of channel.messages) {\n",
              "        // Send a message to notify the kernel that we're ready.\n",
              "        channel.send({})\n",
              "        if (message.buffers) {\n",
              "          for (const buffer of message.buffers) {\n",
              "            buffers.push(buffer);\n",
              "            downloaded += buffer.byteLength;\n",
              "            progress.value = downloaded;\n",
              "          }\n",
              "        }\n",
              "      }\n",
              "      const blob = new Blob(buffers, {type: 'application/binary'});\n",
              "      const a = document.createElement('a');\n",
              "      a.href = window.URL.createObjectURL(blob);\n",
              "      a.download = filename;\n",
              "      div.appendChild(a);\n",
              "      a.click();\n",
              "      div.remove();\n",
              "    }\n",
              "  "
            ]
          },
          "metadata": {}
        },
        {
          "output_type": "display_data",
          "data": {
            "text/plain": [
              "<IPython.core.display.Javascript object>"
            ],
            "application/javascript": [
              "download(\"download_ff00b1e4-89bd-4768-baeb-ddb41efbdca0\", \"ANOVA_Input_Health_Groups.xlsx\", 809646)"
            ]
          },
          "metadata": {}
        },
        {
          "output_type": "display_data",
          "data": {
            "text/plain": [
              "<IPython.core.display.Javascript object>"
            ],
            "application/javascript": [
              "\n",
              "    async function download(id, filename, size) {\n",
              "      if (!google.colab.kernel.accessAllowed) {\n",
              "        return;\n",
              "      }\n",
              "      const div = document.createElement('div');\n",
              "      const label = document.createElement('label');\n",
              "      label.textContent = `Downloading \"${filename}\": `;\n",
              "      div.appendChild(label);\n",
              "      const progress = document.createElement('progress');\n",
              "      progress.max = size;\n",
              "      div.appendChild(progress);\n",
              "      document.body.appendChild(div);\n",
              "\n",
              "      const buffers = [];\n",
              "      let downloaded = 0;\n",
              "\n",
              "      const channel = await google.colab.kernel.comms.open(id);\n",
              "      // Send a message to notify the kernel that we're ready.\n",
              "      channel.send({})\n",
              "\n",
              "      for await (const message of channel.messages) {\n",
              "        // Send a message to notify the kernel that we're ready.\n",
              "        channel.send({})\n",
              "        if (message.buffers) {\n",
              "          for (const buffer of message.buffers) {\n",
              "            buffers.push(buffer);\n",
              "            downloaded += buffer.byteLength;\n",
              "            progress.value = downloaded;\n",
              "          }\n",
              "        }\n",
              "      }\n",
              "      const blob = new Blob(buffers, {type: 'application/binary'});\n",
              "      const a = document.createElement('a');\n",
              "      a.href = window.URL.createObjectURL(blob);\n",
              "      a.download = filename;\n",
              "      div.appendChild(a);\n",
              "      a.click();\n",
              "      div.remove();\n",
              "    }\n",
              "  "
            ]
          },
          "metadata": {}
        },
        {
          "output_type": "display_data",
          "data": {
            "text/plain": [
              "<IPython.core.display.Javascript object>"
            ],
            "application/javascript": [
              "download(\"download_d02e11c9-2385-4183-bf12-b62fe45963e5\", \"anova_summary.csv\", 267)"
            ]
          },
          "metadata": {}
        },
        {
          "output_type": "display_data",
          "data": {
            "text/plain": [
              "<IPython.core.display.Javascript object>"
            ],
            "application/javascript": [
              "\n",
              "    async function download(id, filename, size) {\n",
              "      if (!google.colab.kernel.accessAllowed) {\n",
              "        return;\n",
              "      }\n",
              "      const div = document.createElement('div');\n",
              "      const label = document.createElement('label');\n",
              "      label.textContent = `Downloading \"${filename}\": `;\n",
              "      div.appendChild(label);\n",
              "      const progress = document.createElement('progress');\n",
              "      progress.max = size;\n",
              "      div.appendChild(progress);\n",
              "      document.body.appendChild(div);\n",
              "\n",
              "      const buffers = [];\n",
              "      let downloaded = 0;\n",
              "\n",
              "      const channel = await google.colab.kernel.comms.open(id);\n",
              "      // Send a message to notify the kernel that we're ready.\n",
              "      channel.send({})\n",
              "\n",
              "      for await (const message of channel.messages) {\n",
              "        // Send a message to notify the kernel that we're ready.\n",
              "        channel.send({})\n",
              "        if (message.buffers) {\n",
              "          for (const buffer of message.buffers) {\n",
              "            buffers.push(buffer);\n",
              "            downloaded += buffer.byteLength;\n",
              "            progress.value = downloaded;\n",
              "          }\n",
              "        }\n",
              "      }\n",
              "      const blob = new Blob(buffers, {type: 'application/binary'});\n",
              "      const a = document.createElement('a');\n",
              "      a.href = window.URL.createObjectURL(blob);\n",
              "      a.download = filename;\n",
              "      div.appendChild(a);\n",
              "      a.click();\n",
              "      div.remove();\n",
              "    }\n",
              "  "
            ]
          },
          "metadata": {}
        },
        {
          "output_type": "display_data",
          "data": {
            "text/plain": [
              "<IPython.core.display.Javascript object>"
            ],
            "application/javascript": [
              "download(\"download_ae1ce925-8b9e-40b0-916c-7b998b225863\", \"anova_results.txt\", 357)"
            ]
          },
          "metadata": {}
        }
      ]
    },
    {
      "cell_type": "code",
      "source": [
        "import pandas as pd\n",
        "import numpy as np\n",
        "from scipy import stats\n",
        "\n",
        "# Load your dataset\n",
        "file_path = \"Healthcare_Dataset.xlsx\"   # Upload this file in Colab or place in your working dir\n",
        "df = pd.read_excel(file_path)\n",
        "\n",
        "# If GenHlth does not exist, create it from BMI quantiles\n",
        "if \"GenHlth\" not in df.columns:\n",
        "    df[\"GenHlth\"] = pd.qcut(df[\"BMI\"], 5, labels=[1,2,3,4,5]).astype(int)\n",
        "\n",
        "# --- Summary table like Excel ---\n",
        "summary = df.groupby(\"GenHlth\")[\"BMI\"].agg([\"count\",\"sum\",\"mean\",\"var\"]).reset_index()\n",
        "summary.columns = [\"Groups\", \"Count\", \"Sum\", \"Average\", \"Variance\"]\n",
        "\n",
        "# --- ANOVA calculations ---\n",
        "groups = [df[df[\"GenHlth\"] == g][\"BMI\"].dropna() for g in sorted(df[\"GenHlth\"].unique())]\n",
        "f_stat, p_val = stats.f_oneway(*groups)\n",
        "\n",
        "# Between-group & within-group sums of squares\n",
        "grand_mean = df[\"BMI\"].mean()\n",
        "ss_between = sum(len(g)*(g.mean()-grand_mean)**2 for g in groups)\n",
        "ss_within = sum(((g - g.mean())**2).sum() for g in groups)\n",
        "ss_total = ss_between + ss_within\n",
        "\n",
        "df_between = len(groups) - 1\n",
        "df_within = len(df) - len(groups)\n",
        "df_total = len(df) - 1\n",
        "\n",
        "ms_between = ss_between/df_between\n",
        "ms_within = ss_within/df_within\n",
        "\n",
        "f_crit = stats.f.ppf(1-0.05, df_between, df_within)\n",
        "\n",
        "# --- Print like Excel ---\n",
        "print(\"\\nSUMMARY\")\n",
        "print(summary.to_string(index=False))\n",
        "\n",
        "print(\"\\nANOVA\")\n",
        "anova_table = pd.DataFrame({\n",
        "    \"Source of Variation\": [\"Between Groups\",\"Within Groups\",\"Total\"],\n",
        "    \"SS\": [ss_between, ss_within, ss_total],\n",
        "    \"df\": [df_between, df_within, df_total],\n",
        "    \"MS\": [ms_between, ms_within, \"\"],\n",
        "    \"F\": [f_stat, \"\", \"\"],\n",
        "    \"P-value\": [p_val, \"\", \"\"],\n",
        "    \"F crit\": [f_crit, \"\", \"\"]\n",
        "})\n",
        "print(anova_table.to_string(index=False))\n"
      ],
      "metadata": {
        "colab": {
          "base_uri": "https://localhost:8080/"
        },
        "id": "VeUrh2Kj-JGf",
        "outputId": "5595f0a9-496b-46b8-a35c-b2b0e8e1d6a0"
      },
      "execution_count": null,
      "outputs": [
        {
          "output_type": "stream",
          "name": "stdout",
          "text": [
            "\n",
            "SUMMARY\n",
            " Groups  Count       Sum   Average  Variance\n",
            "      1  30462  610478.1 20.040644  5.678960\n",
            "      2  29964  730212.8 24.369670  0.695145\n",
            "      3  29584  798973.0 27.006929  0.520216\n",
            "      4  30311  899462.2 29.674448  0.729277\n",
            "      5  29679 1010157.4 34.036100  5.365355\n",
            "\n",
            "ANOVA\n",
            "Source of Variation           SS     df             MS              F P-value    F crit\n",
            "     Between Groups 3.368777e+06      4  842194.210027  323460.221155     0.0  2.371991\n",
            "      Within Groups 3.905424e+05 149995       2.603703                                 \n",
            "              Total 3.759319e+06 149999                                                \n"
          ]
        }
      ]
    },
    {
      "cell_type": "code",
      "source": [
        "files.download(\"anova_group_summary.csv\")\n",
        "files.download(\"anova_results.csv\")\n"
      ],
      "metadata": {
        "colab": {
          "base_uri": "https://localhost:8080/",
          "height": 17
        },
        "id": "_MVVypJU-6d2",
        "outputId": "073d5438-62a1-4ba5-97a0-8808efc76173"
      },
      "execution_count": null,
      "outputs": [
        {
          "output_type": "display_data",
          "data": {
            "text/plain": [
              "<IPython.core.display.Javascript object>"
            ],
            "application/javascript": [
              "\n",
              "    async function download(id, filename, size) {\n",
              "      if (!google.colab.kernel.accessAllowed) {\n",
              "        return;\n",
              "      }\n",
              "      const div = document.createElement('div');\n",
              "      const label = document.createElement('label');\n",
              "      label.textContent = `Downloading \"${filename}\": `;\n",
              "      div.appendChild(label);\n",
              "      const progress = document.createElement('progress');\n",
              "      progress.max = size;\n",
              "      div.appendChild(progress);\n",
              "      document.body.appendChild(div);\n",
              "\n",
              "      const buffers = [];\n",
              "      let downloaded = 0;\n",
              "\n",
              "      const channel = await google.colab.kernel.comms.open(id);\n",
              "      // Send a message to notify the kernel that we're ready.\n",
              "      channel.send({})\n",
              "\n",
              "      for await (const message of channel.messages) {\n",
              "        // Send a message to notify the kernel that we're ready.\n",
              "        channel.send({})\n",
              "        if (message.buffers) {\n",
              "          for (const buffer of message.buffers) {\n",
              "            buffers.push(buffer);\n",
              "            downloaded += buffer.byteLength;\n",
              "            progress.value = downloaded;\n",
              "          }\n",
              "        }\n",
              "      }\n",
              "      const blob = new Blob(buffers, {type: 'application/binary'});\n",
              "      const a = document.createElement('a');\n",
              "      a.href = window.URL.createObjectURL(blob);\n",
              "      a.download = filename;\n",
              "      div.appendChild(a);\n",
              "      a.click();\n",
              "      div.remove();\n",
              "    }\n",
              "  "
            ]
          },
          "metadata": {}
        },
        {
          "output_type": "display_data",
          "data": {
            "text/plain": [
              "<IPython.core.display.Javascript object>"
            ],
            "application/javascript": [
              "download(\"download_01f1546c-fe22-4a96-a774-3a986c94b24b\", \"anova_group_summary.csv\", 211)"
            ]
          },
          "metadata": {}
        },
        {
          "output_type": "display_data",
          "data": {
            "text/plain": [
              "<IPython.core.display.Javascript object>"
            ],
            "application/javascript": [
              "\n",
              "    async function download(id, filename, size) {\n",
              "      if (!google.colab.kernel.accessAllowed) {\n",
              "        return;\n",
              "      }\n",
              "      const div = document.createElement('div');\n",
              "      const label = document.createElement('label');\n",
              "      label.textContent = `Downloading \"${filename}\": `;\n",
              "      div.appendChild(label);\n",
              "      const progress = document.createElement('progress');\n",
              "      progress.max = size;\n",
              "      div.appendChild(progress);\n",
              "      document.body.appendChild(div);\n",
              "\n",
              "      const buffers = [];\n",
              "      let downloaded = 0;\n",
              "\n",
              "      const channel = await google.colab.kernel.comms.open(id);\n",
              "      // Send a message to notify the kernel that we're ready.\n",
              "      channel.send({})\n",
              "\n",
              "      for await (const message of channel.messages) {\n",
              "        // Send a message to notify the kernel that we're ready.\n",
              "        channel.send({})\n",
              "        if (message.buffers) {\n",
              "          for (const buffer of message.buffers) {\n",
              "            buffers.push(buffer);\n",
              "            downloaded += buffer.byteLength;\n",
              "            progress.value = downloaded;\n",
              "          }\n",
              "        }\n",
              "      }\n",
              "      const blob = new Blob(buffers, {type: 'application/binary'});\n",
              "      const a = document.createElement('a');\n",
              "      a.href = window.URL.createObjectURL(blob);\n",
              "      a.download = filename;\n",
              "      div.appendChild(a);\n",
              "      a.click();\n",
              "      div.remove();\n",
              "    }\n",
              "  "
            ]
          },
          "metadata": {}
        },
        {
          "output_type": "display_data",
          "data": {
            "text/plain": [
              "<IPython.core.display.Javascript object>"
            ],
            "application/javascript": [
              "download(\"download_8aab07ee-f7d0-41c0-930b-295774495a84\", \"anova_results.csv\", 183)"
            ]
          },
          "metadata": {}
        }
      ]
    },
    {
      "cell_type": "code",
      "source": [
        "import pandas as pd\n",
        "import numpy as np\n",
        "from google.colab import files\n",
        "\n",
        "# Load your dataset\n",
        "df = pd.read_excel(\"Healthcare_Dataset.xlsx\")\n",
        "\n",
        "# ✅ Step 1: Make sure GenHlth exists\n",
        "# If missing, create from BMI quantiles\n",
        "if \"GenHlth\" not in df.columns:\n",
        "    df[\"GenHlth\"] = pd.qcut(df[\"BMI\"], 5, labels=[1,2,3,4,5]).astype(int)\n",
        "\n",
        "# ✅ Step 2: Split BMI values into 5 groups\n",
        "groups = {}\n",
        "for g in [1,2,3,4,5]:\n",
        "    groups[g] = df.loc[df[\"GenHlth\"] == g, \"BMI\"].reset_index(drop=True)\n",
        "\n",
        "# ✅ Step 3: Make all columns same length (pad with NaN)\n",
        "max_len = max(len(groups[g]) for g in groups)\n",
        "anova_input = {}\n",
        "for g in groups:\n",
        "    anova_input[f\"Health {g}\"] = groups[g].reindex(range(max_len))\n",
        "\n",
        "anova_df = pd.DataFrame(anova_input)\n",
        "\n",
        "# ✅ Step 4: Save dataset (full 150,000 rows spread across 5 groups)\n",
        "anova_df.to_excel(\"ANOVA_Input_150000.xlsx\", index=False)\n",
        "\n",
        "# ✅ Step 5: Download\n",
        "files.download(\"ANOVA_Input_150000.xlsx\")\n"
      ],
      "metadata": {
        "colab": {
          "base_uri": "https://localhost:8080/",
          "height": 17
        },
        "id": "HO-E4ZRgF8nZ",
        "outputId": "5feeafc7-0c8c-458b-d679-b5b64e0887af"
      },
      "execution_count": null,
      "outputs": [
        {
          "output_type": "display_data",
          "data": {
            "text/plain": [
              "<IPython.core.display.Javascript object>"
            ],
            "application/javascript": [
              "\n",
              "    async function download(id, filename, size) {\n",
              "      if (!google.colab.kernel.accessAllowed) {\n",
              "        return;\n",
              "      }\n",
              "      const div = document.createElement('div');\n",
              "      const label = document.createElement('label');\n",
              "      label.textContent = `Downloading \"${filename}\": `;\n",
              "      div.appendChild(label);\n",
              "      const progress = document.createElement('progress');\n",
              "      progress.max = size;\n",
              "      div.appendChild(progress);\n",
              "      document.body.appendChild(div);\n",
              "\n",
              "      const buffers = [];\n",
              "      let downloaded = 0;\n",
              "\n",
              "      const channel = await google.colab.kernel.comms.open(id);\n",
              "      // Send a message to notify the kernel that we're ready.\n",
              "      channel.send({})\n",
              "\n",
              "      for await (const message of channel.messages) {\n",
              "        // Send a message to notify the kernel that we're ready.\n",
              "        channel.send({})\n",
              "        if (message.buffers) {\n",
              "          for (const buffer of message.buffers) {\n",
              "            buffers.push(buffer);\n",
              "            downloaded += buffer.byteLength;\n",
              "            progress.value = downloaded;\n",
              "          }\n",
              "        }\n",
              "      }\n",
              "      const blob = new Blob(buffers, {type: 'application/binary'});\n",
              "      const a = document.createElement('a');\n",
              "      a.href = window.URL.createObjectURL(blob);\n",
              "      a.download = filename;\n",
              "      div.appendChild(a);\n",
              "      a.click();\n",
              "      div.remove();\n",
              "    }\n",
              "  "
            ]
          },
          "metadata": {}
        },
        {
          "output_type": "display_data",
          "data": {
            "text/plain": [
              "<IPython.core.display.Javascript object>"
            ],
            "application/javascript": [
              "download(\"download_4790da44-c9de-46f6-aeb3-c6c3c81042b7\", \"ANOVA_Input_150000.xlsx\", 744787)"
            ]
          },
          "metadata": {}
        }
      ]
    },
    {
      "cell_type": "code",
      "source": [
        "import pandas as pd\n",
        "import numpy as np\n",
        "from google.colab import files\n",
        "\n",
        "# Load your uploaded dataset\n",
        "df = pd.read_excel(\"Healthcare_Dataset.xlsx\")\n",
        "\n",
        "# ✅ Ensure GenHlth exists\n",
        "if \"GenHlth\" not in df.columns:\n",
        "    # Create GenHlth from BMI quantiles (5 groups)\n",
        "    df[\"GenHlth\"] = pd.qcut(df[\"BMI\"], 5, labels=[1,2,3,4,5]).astype(int)\n",
        "\n",
        "# ✅ Split BMI values into 5 groups\n",
        "groups = {}\n",
        "for g in [1,2,3,4,5]:\n",
        "    groups[g] = df.loc[df[\"GenHlth\"] == g, \"BMI\"].reset_index(drop=True)\n",
        "\n",
        "# ✅ Pad all groups to equal length\n",
        "max_len = max(len(groups[g]) for g in groups)\n",
        "anova_input = {}\n",
        "for g in groups:\n",
        "    anova_input[f\"Health {g}\"] = groups[g].reindex(range(max_len))\n",
        "\n",
        "anova_df = pd.DataFrame(anova_input)\n",
        "\n",
        "# ✅ Save as Excel\n",
        "anova_df.to_excel(\"ANOVA_Input_150000.xlsx\", index=False)\n",
        "\n",
        "# ✅ Download\n",
        "files.download(\"ANOVA_Input_150000.xlsx\")\n"
      ],
      "metadata": {
        "colab": {
          "base_uri": "https://localhost:8080/",
          "height": 17
        },
        "id": "6nF5BUz6Gku8",
        "outputId": "ad47456a-a1b2-4cf4-fdf8-28fb7380a684"
      },
      "execution_count": null,
      "outputs": [
        {
          "output_type": "display_data",
          "data": {
            "text/plain": [
              "<IPython.core.display.Javascript object>"
            ],
            "application/javascript": [
              "\n",
              "    async function download(id, filename, size) {\n",
              "      if (!google.colab.kernel.accessAllowed) {\n",
              "        return;\n",
              "      }\n",
              "      const div = document.createElement('div');\n",
              "      const label = document.createElement('label');\n",
              "      label.textContent = `Downloading \"${filename}\": `;\n",
              "      div.appendChild(label);\n",
              "      const progress = document.createElement('progress');\n",
              "      progress.max = size;\n",
              "      div.appendChild(progress);\n",
              "      document.body.appendChild(div);\n",
              "\n",
              "      const buffers = [];\n",
              "      let downloaded = 0;\n",
              "\n",
              "      const channel = await google.colab.kernel.comms.open(id);\n",
              "      // Send a message to notify the kernel that we're ready.\n",
              "      channel.send({})\n",
              "\n",
              "      for await (const message of channel.messages) {\n",
              "        // Send a message to notify the kernel that we're ready.\n",
              "        channel.send({})\n",
              "        if (message.buffers) {\n",
              "          for (const buffer of message.buffers) {\n",
              "            buffers.push(buffer);\n",
              "            downloaded += buffer.byteLength;\n",
              "            progress.value = downloaded;\n",
              "          }\n",
              "        }\n",
              "      }\n",
              "      const blob = new Blob(buffers, {type: 'application/binary'});\n",
              "      const a = document.createElement('a');\n",
              "      a.href = window.URL.createObjectURL(blob);\n",
              "      a.download = filename;\n",
              "      div.appendChild(a);\n",
              "      a.click();\n",
              "      div.remove();\n",
              "    }\n",
              "  "
            ]
          },
          "metadata": {}
        },
        {
          "output_type": "display_data",
          "data": {
            "text/plain": [
              "<IPython.core.display.Javascript object>"
            ],
            "application/javascript": [
              "download(\"download_366b7777-d75f-4865-89d7-48d2bc0e0ac5\", \"ANOVA_Input_150000.xlsx\", 744788)"
            ]
          },
          "metadata": {}
        }
      ]
    }
  ]
}